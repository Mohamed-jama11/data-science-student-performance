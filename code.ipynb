{
 "cells": [
  {
   "cell_type": "code",
   "execution_count": 5,
   "id": "48d8229b",
   "metadata": {},
   "outputs": [],
   "source": [
    "import pandas as pd;\n",
    "import numpy as np;\n",
    "import matplotlib.pyplot as plt\n",
    "import seaborn as sn\n",
    "\n",
    "from sklearn.model_selection import train_test_split\n",
    "from sklearn.linear_model import LinearRegression\n",
    "import warnings\n",
    "warnings.filterwarnings('ignore')"
   ]
  },
  {
   "cell_type": "code",
   "execution_count": 3,
   "id": "98f43025",
   "metadata": {},
   "outputs": [],
   "source": [
    "#1\n",
    "df=pd.read_csv('C:/Student_Performance.csv');\n",
    "\n"
   ]
  },
  {
   "cell_type": "code",
   "execution_count": 6,
   "id": "a2d28996",
   "metadata": {},
   "outputs": [
    {
     "data": {
      "text/html": [
       "<div>\n",
       "<style scoped>\n",
       "    .dataframe tbody tr th:only-of-type {\n",
       "        vertical-align: middle;\n",
       "    }\n",
       "\n",
       "    .dataframe tbody tr th {\n",
       "        vertical-align: top;\n",
       "    }\n",
       "\n",
       "    .dataframe thead th {\n",
       "        text-align: right;\n",
       "    }\n",
       "</style>\n",
       "<table border=\"1\" class=\"dataframe\">\n",
       "  <thead>\n",
       "    <tr style=\"text-align: right;\">\n",
       "      <th></th>\n",
       "      <th>gender</th>\n",
       "      <th>NationalITy</th>\n",
       "      <th>PlaceofBirth</th>\n",
       "      <th>StageID</th>\n",
       "      <th>GradeID</th>\n",
       "      <th>SectionID</th>\n",
       "      <th>Topic</th>\n",
       "      <th>Semester</th>\n",
       "      <th>Relation</th>\n",
       "      <th>raisedhands</th>\n",
       "      <th>VisITedResources</th>\n",
       "      <th>AnnouncementsView</th>\n",
       "      <th>Discussion</th>\n",
       "      <th>ParentAnsweringSurvey</th>\n",
       "      <th>ParentschoolSatisfaction</th>\n",
       "      <th>StudentAbsenceDays</th>\n",
       "      <th>Class</th>\n",
       "    </tr>\n",
       "  </thead>\n",
       "  <tbody>\n",
       "    <tr>\n",
       "      <th>0</th>\n",
       "      <td>M</td>\n",
       "      <td>KW</td>\n",
       "      <td>KuwaIT</td>\n",
       "      <td>lowerlevel</td>\n",
       "      <td>G-04</td>\n",
       "      <td>A</td>\n",
       "      <td>IT</td>\n",
       "      <td>F</td>\n",
       "      <td>Father</td>\n",
       "      <td>15</td>\n",
       "      <td>16</td>\n",
       "      <td>2</td>\n",
       "      <td>20</td>\n",
       "      <td>Yes</td>\n",
       "      <td>Good</td>\n",
       "      <td>Under-7</td>\n",
       "      <td>M</td>\n",
       "    </tr>\n",
       "    <tr>\n",
       "      <th>1</th>\n",
       "      <td>M</td>\n",
       "      <td>KW</td>\n",
       "      <td>KuwaIT</td>\n",
       "      <td>lowerlevel</td>\n",
       "      <td>G-04</td>\n",
       "      <td>A</td>\n",
       "      <td>IT</td>\n",
       "      <td>F</td>\n",
       "      <td>Father</td>\n",
       "      <td>20</td>\n",
       "      <td>20</td>\n",
       "      <td>3</td>\n",
       "      <td>25</td>\n",
       "      <td>Yes</td>\n",
       "      <td>Good</td>\n",
       "      <td>Under-7</td>\n",
       "      <td>M</td>\n",
       "    </tr>\n",
       "    <tr>\n",
       "      <th>2</th>\n",
       "      <td>M</td>\n",
       "      <td>KW</td>\n",
       "      <td>KuwaIT</td>\n",
       "      <td>lowerlevel</td>\n",
       "      <td>G-04</td>\n",
       "      <td>A</td>\n",
       "      <td>IT</td>\n",
       "      <td>F</td>\n",
       "      <td>Father</td>\n",
       "      <td>10</td>\n",
       "      <td>7</td>\n",
       "      <td>0</td>\n",
       "      <td>30</td>\n",
       "      <td>No</td>\n",
       "      <td>Bad</td>\n",
       "      <td>Above-7</td>\n",
       "      <td>L</td>\n",
       "    </tr>\n",
       "    <tr>\n",
       "      <th>3</th>\n",
       "      <td>M</td>\n",
       "      <td>KW</td>\n",
       "      <td>KuwaIT</td>\n",
       "      <td>lowerlevel</td>\n",
       "      <td>G-04</td>\n",
       "      <td>A</td>\n",
       "      <td>IT</td>\n",
       "      <td>F</td>\n",
       "      <td>Father</td>\n",
       "      <td>30</td>\n",
       "      <td>25</td>\n",
       "      <td>5</td>\n",
       "      <td>35</td>\n",
       "      <td>No</td>\n",
       "      <td>Bad</td>\n",
       "      <td>Above-7</td>\n",
       "      <td>L</td>\n",
       "    </tr>\n",
       "    <tr>\n",
       "      <th>4</th>\n",
       "      <td>M</td>\n",
       "      <td>KW</td>\n",
       "      <td>KuwaIT</td>\n",
       "      <td>lowerlevel</td>\n",
       "      <td>G-04</td>\n",
       "      <td>A</td>\n",
       "      <td>IT</td>\n",
       "      <td>F</td>\n",
       "      <td>Father</td>\n",
       "      <td>40</td>\n",
       "      <td>50</td>\n",
       "      <td>12</td>\n",
       "      <td>50</td>\n",
       "      <td>No</td>\n",
       "      <td>Bad</td>\n",
       "      <td>Above-7</td>\n",
       "      <td>M</td>\n",
       "    </tr>\n",
       "    <tr>\n",
       "      <th>...</th>\n",
       "      <td>...</td>\n",
       "      <td>...</td>\n",
       "      <td>...</td>\n",
       "      <td>...</td>\n",
       "      <td>...</td>\n",
       "      <td>...</td>\n",
       "      <td>...</td>\n",
       "      <td>...</td>\n",
       "      <td>...</td>\n",
       "      <td>...</td>\n",
       "      <td>...</td>\n",
       "      <td>...</td>\n",
       "      <td>...</td>\n",
       "      <td>...</td>\n",
       "      <td>...</td>\n",
       "      <td>...</td>\n",
       "      <td>...</td>\n",
       "    </tr>\n",
       "    <tr>\n",
       "      <th>475</th>\n",
       "      <td>F</td>\n",
       "      <td>Jordan</td>\n",
       "      <td>Jordan</td>\n",
       "      <td>MiddleSchool</td>\n",
       "      <td>G-08</td>\n",
       "      <td>A</td>\n",
       "      <td>Chemistry</td>\n",
       "      <td>S</td>\n",
       "      <td>Father</td>\n",
       "      <td>5</td>\n",
       "      <td>4</td>\n",
       "      <td>5</td>\n",
       "      <td>8</td>\n",
       "      <td>No</td>\n",
       "      <td>Bad</td>\n",
       "      <td>Above-7</td>\n",
       "      <td>L</td>\n",
       "    </tr>\n",
       "    <tr>\n",
       "      <th>476</th>\n",
       "      <td>F</td>\n",
       "      <td>Jordan</td>\n",
       "      <td>Jordan</td>\n",
       "      <td>MiddleSchool</td>\n",
       "      <td>G-08</td>\n",
       "      <td>A</td>\n",
       "      <td>Geology</td>\n",
       "      <td>F</td>\n",
       "      <td>Father</td>\n",
       "      <td>50</td>\n",
       "      <td>77</td>\n",
       "      <td>14</td>\n",
       "      <td>28</td>\n",
       "      <td>No</td>\n",
       "      <td>Bad</td>\n",
       "      <td>Under-7</td>\n",
       "      <td>M</td>\n",
       "    </tr>\n",
       "    <tr>\n",
       "      <th>477</th>\n",
       "      <td>F</td>\n",
       "      <td>Jordan</td>\n",
       "      <td>Jordan</td>\n",
       "      <td>MiddleSchool</td>\n",
       "      <td>G-08</td>\n",
       "      <td>A</td>\n",
       "      <td>Geology</td>\n",
       "      <td>S</td>\n",
       "      <td>Father</td>\n",
       "      <td>55</td>\n",
       "      <td>74</td>\n",
       "      <td>25</td>\n",
       "      <td>29</td>\n",
       "      <td>No</td>\n",
       "      <td>Bad</td>\n",
       "      <td>Under-7</td>\n",
       "      <td>M</td>\n",
       "    </tr>\n",
       "    <tr>\n",
       "      <th>478</th>\n",
       "      <td>F</td>\n",
       "      <td>Jordan</td>\n",
       "      <td>Jordan</td>\n",
       "      <td>MiddleSchool</td>\n",
       "      <td>G-08</td>\n",
       "      <td>A</td>\n",
       "      <td>History</td>\n",
       "      <td>F</td>\n",
       "      <td>Father</td>\n",
       "      <td>30</td>\n",
       "      <td>17</td>\n",
       "      <td>14</td>\n",
       "      <td>57</td>\n",
       "      <td>No</td>\n",
       "      <td>Bad</td>\n",
       "      <td>Above-7</td>\n",
       "      <td>L</td>\n",
       "    </tr>\n",
       "    <tr>\n",
       "      <th>479</th>\n",
       "      <td>F</td>\n",
       "      <td>Jordan</td>\n",
       "      <td>Jordan</td>\n",
       "      <td>MiddleSchool</td>\n",
       "      <td>G-08</td>\n",
       "      <td>A</td>\n",
       "      <td>History</td>\n",
       "      <td>S</td>\n",
       "      <td>Father</td>\n",
       "      <td>35</td>\n",
       "      <td>14</td>\n",
       "      <td>23</td>\n",
       "      <td>62</td>\n",
       "      <td>No</td>\n",
       "      <td>Bad</td>\n",
       "      <td>Above-7</td>\n",
       "      <td>L</td>\n",
       "    </tr>\n",
       "  </tbody>\n",
       "</table>\n",
       "<p>480 rows × 17 columns</p>\n",
       "</div>"
      ],
      "text/plain": [
       "    gender NationalITy PlaceofBirth       StageID GradeID SectionID  \\\n",
       "0        M          KW       KuwaIT    lowerlevel    G-04         A   \n",
       "1        M          KW       KuwaIT    lowerlevel    G-04         A   \n",
       "2        M          KW       KuwaIT    lowerlevel    G-04         A   \n",
       "3        M          KW       KuwaIT    lowerlevel    G-04         A   \n",
       "4        M          KW       KuwaIT    lowerlevel    G-04         A   \n",
       "..     ...         ...          ...           ...     ...       ...   \n",
       "475      F      Jordan       Jordan  MiddleSchool    G-08         A   \n",
       "476      F      Jordan       Jordan  MiddleSchool    G-08         A   \n",
       "477      F      Jordan       Jordan  MiddleSchool    G-08         A   \n",
       "478      F      Jordan       Jordan  MiddleSchool    G-08         A   \n",
       "479      F      Jordan       Jordan  MiddleSchool    G-08         A   \n",
       "\n",
       "         Topic Semester Relation  raisedhands  VisITedResources  \\\n",
       "0           IT        F   Father           15                16   \n",
       "1           IT        F   Father           20                20   \n",
       "2           IT        F   Father           10                 7   \n",
       "3           IT        F   Father           30                25   \n",
       "4           IT        F   Father           40                50   \n",
       "..         ...      ...      ...          ...               ...   \n",
       "475  Chemistry        S   Father            5                 4   \n",
       "476    Geology        F   Father           50                77   \n",
       "477    Geology        S   Father           55                74   \n",
       "478    History        F   Father           30                17   \n",
       "479    History        S   Father           35                14   \n",
       "\n",
       "     AnnouncementsView  Discussion ParentAnsweringSurvey  \\\n",
       "0                    2          20                   Yes   \n",
       "1                    3          25                   Yes   \n",
       "2                    0          30                    No   \n",
       "3                    5          35                    No   \n",
       "4                   12          50                    No   \n",
       "..                 ...         ...                   ...   \n",
       "475                  5           8                    No   \n",
       "476                 14          28                    No   \n",
       "477                 25          29                    No   \n",
       "478                 14          57                    No   \n",
       "479                 23          62                    No   \n",
       "\n",
       "    ParentschoolSatisfaction StudentAbsenceDays Class  \n",
       "0                       Good            Under-7     M  \n",
       "1                       Good            Under-7     M  \n",
       "2                        Bad            Above-7     L  \n",
       "3                        Bad            Above-7     L  \n",
       "4                        Bad            Above-7     M  \n",
       "..                       ...                ...   ...  \n",
       "475                      Bad            Above-7     L  \n",
       "476                      Bad            Under-7     M  \n",
       "477                      Bad            Under-7     M  \n",
       "478                      Bad            Above-7     L  \n",
       "479                      Bad            Above-7     L  \n",
       "\n",
       "[480 rows x 17 columns]"
      ]
     },
     "execution_count": 6,
     "metadata": {},
     "output_type": "execute_result"
    }
   ],
   "source": [
    "df"
   ]
  },
  {
   "cell_type": "code",
   "execution_count": 7,
   "id": "9ff070b1",
   "metadata": {},
   "outputs": [
    {
     "data": {
      "text/plain": [
       "Index(['gender', 'NationalITy', 'PlaceofBirth', 'StageID', 'GradeID',\n",
       "       'SectionID', 'Topic', 'Semester', 'Relation', 'raisedhands',\n",
       "       'VisITedResources', 'AnnouncementsView', 'Discussion',\n",
       "       'ParentAnsweringSurvey', 'ParentschoolSatisfaction',\n",
       "       'StudentAbsenceDays', 'Class'],\n",
       "      dtype='object')"
      ]
     },
     "execution_count": 7,
     "metadata": {},
     "output_type": "execute_result"
    }
   ],
   "source": [
    "df.columns"
   ]
  },
  {
   "cell_type": "markdown",
   "id": "20019800",
   "metadata": {},
   "source": [
    "# 2 Producing Various descriptive statistics of the analytic dataset."
   ]
  },
  {
   "cell_type": "code",
   "execution_count": 8,
   "id": "1f77747d",
   "metadata": {},
   "outputs": [],
   "source": [
    "mean=df[\"Discussion\"].mean();\n",
    "#Mean: The mean represents the average value of the Discussion"
   ]
  },
  {
   "cell_type": "code",
   "execution_count": 12,
   "id": "70b78352",
   "metadata": {},
   "outputs": [],
   "source": [
    "median=df[\"Discussion\"].median();\n",
    "#Median: The median represents the middle value of the Discussion when the values are sorted in ascending or descending order\n",
    "mode=df[\"Discussion\"].mode().tolist();\n",
    "#Mode: The mode represents the most frequently occurring  Discussion value. \n",
    "#It is useful for identifying the population value that appears with the highest frequency.\n",
    "std=df[\"Discussion\"].std();\n",
    "#Standard Deviation: The standard deviation measures the dispersion or spread of the Discussion values around the mean"
   ]
  },
  {
   "cell_type": "code",
   "execution_count": 13,
   "id": "add35bc1",
   "metadata": {},
   "outputs": [],
   "source": [
    "min_value=df[\"Discussion\"].min();\n",
    "max_value=df[\"Discussion\"].max();\n",
    "#Minimum and Maximum: The minimum and maximum values represent the smallest and largest #They provide information about \n",
    "#the range of  Discussion valuesin the dataset. values, respectively."
   ]
  },
  {
   "cell_type": "code",
   "execution_count": 15,
   "id": "e0c9cdc2",
   "metadata": {},
   "outputs": [],
   "source": [
    "quartiles=df[\"Discussion\"].quantile([0.25,0.5,0.75]);\n",
    "#Quartiles: Quartiles divide the population into four equal parts, each containing 25% of the observations.\n",
    "#They help identify the range of values within which a specific percentage of the population falls. \n",
    "#The quartiles consist of the first quartile (Q1), median (Q2 or 50th percentile), and third quartile (Q3).\n"
   ]
  },
  {
   "cell_type": "code",
   "execution_count": null,
   "id": "eefa958f",
   "metadata": {},
   "outputs": [],
   "source": [
    "# print(f\"mean is {round(mean,2)} \\n meadian are {median}\\n mode is {mode}\\n standard deviation {round(std,2)}\");\n",
    "print(f\" manimum value are {min_value}\\n maxximum value are {max_value}\\n Quartiles are {quartiles}\")"
   ]
  },
  {
   "cell_type": "markdown",
   "id": "b45c2487",
   "metadata": {},
   "source": [
    "# comments"
   ]
  },
  {
   "cell_type": "markdown",
   "id": "dbab7da0",
   "metadata": {},
   "source": [
    "### the mean indicates us the average value of the Discussion is 43.28\n"
   ]
  },
  {
   "cell_type": "markdown",
   "id": "2266fd86",
   "metadata": {},
   "source": [
    "### meadian is shows us the middle value of the Discussion is 39.0"
   ]
  },
  {
   "cell_type": "markdown",
   "id": "fac4133e",
   "metadata": {},
   "source": [
    "### Mode show us the most frequently occurring  Discussion value is 70\n"
   ]
  },
  {
   "cell_type": "markdown",
   "id": "25b5fb50",
   "metadata": {},
   "source": [
    "### The standard deviation  measures the dispersion or spread othe Discussion values around the mean is 27.64\n"
   ]
  },
  {
   "cell_type": "markdown",
   "id": "ce47d0e6",
   "metadata": {},
   "source": [
    "manimum and maximum are show us the lowest value and heightest value are 1 and 99 respectivily\n",
    "Quartile one showing us 25% are 20.0\n",
    "Quartile two showing 50% are 39.0\n",
    "Quartile three 75% are 70.0"
   ]
  },
  {
   "cell_type": "markdown",
   "id": "f9b149f2",
   "metadata": {},
   "source": [
    "# 3 Building possible visualizations"
   ]
  },
  {
   "cell_type": "code",
   "execution_count": 84,
   "id": "325928e0",
   "metadata": {},
   "outputs": [
    {
     "data": {
      "image/png": "[encoded data removed]",
      "text/plain": [
       "<Figure size 640x480 with 1 Axes>"
      ]
     },
     "metadata": {},
     "output_type": "display_data"
    }
   ],
   "source": [
    "\n",
    "sn.histplot(df[\"Discussion\"],bins=10,kde=True)\n",
    "plt.title(\"Discussion Distribution\")\n",
    "plt.show()"
   ]
  },
  {
   "cell_type": "markdown",
   "id": "c7c17ced",
   "metadata": {},
   "source": [
    "# COMMENTS: this HistGrapsh is showing us The most discussion was between 10 to 20, in general the discussion was 0 to 40. "
   ]
  },
  {
   "cell_type": "code",
   "execution_count": 82,
   "id": "e9437c1c",
   "metadata": {},
   "outputs": [
    {
     "data": {
      "text/plain": [
       "<Axes: >"
      ]
     },
     "execution_count": 82,
     "metadata": {},
     "output_type": "execute_result"
    },
    {
     "data": {
      "image/png": "[encoded data removed]",
      "text/plain": [
       "<Figure size 640x480 with 1 Axes>"
      ]
     },
     "metadata": {},
     "output_type": "display_data"
    }
   ],
   "source": [
    "df.NationalITy.value_counts().plot(kind=\"bar\")"
   ]
  },
  {
   "cell_type": "markdown",
   "id": "4ebc378c",
   "metadata": {},
   "source": [
    "# This grapsh shows the Academic Performance, the most students are from Kuwait = kw and it is more than 175 students, the smallest is from Venezuela and it is only one student."
   ]
  },
  {
   "cell_type": "code",
   "execution_count": 104,
   "id": "05b7652c",
   "metadata": {},
   "outputs": [
    {
     "data": {
      "text/plain": [
       "KW             179\n",
       "Jordan         172\n",
       "Palestine       28\n",
       "Iraq            22\n",
       "lebanon         17\n",
       "Tunis           12\n",
       "SaudiArabia     11\n",
       "Egypt            9\n",
       "Syria            7\n",
       "USA              6\n",
       "Iran             6\n",
       "Lybia            6\n",
       "Morocco          4\n",
       "venzuela         1\n",
       "Name: NationalITy, dtype: int64"
      ]
     },
     "execution_count": 104,
     "metadata": {},
     "output_type": "execute_result"
    }
   ],
   "source": [
    "df.NationalITy.value_counts()"
   ]
  },
  {
   "cell_type": "code",
   "execution_count": 80,
   "id": "dbc7062c",
   "metadata": {},
   "outputs": [
    {
     "data": {
      "image/png": "[encoded data removed]",
      "text/plain": [
       "<Figure size 640x480 with 1 Axes>"
      ]
     },
     "metadata": {},
     "output_type": "display_data"
    }
   ],
   "source": [
    "data=df[\"gender\"].value_counts()\n",
    "label=df[\"gender\"].unique()\n",
    "fig,res=plt.subplots()\n",
    "res.pie(data,labels=label,autopct=\"%1.1f%%\",startangle=45)\n",
    "plt.show()"
   ]
  },
  {
   "cell_type": "markdown",
   "id": "9aeabab8",
   "metadata": {},
   "source": [
    "# When looking at girls and boys, there are more boys and less girls, boys are more than 60%, girls less than 40%."
   ]
  },
  {
   "cell_type": "markdown",
   "id": "530d280e",
   "metadata": {},
   "source": [
    "# 4 checking null values and handling"
   ]
  },
  {
   "cell_type": "code",
   "execution_count": null,
   "id": "19583e59",
   "metadata": {},
   "outputs": [],
   "source": [
    "null=df.isnull().sum(); #df.fillna(method=\"ffill\",inplace=True) # or bfill"
   ]
  },
  {
   "cell_type": "code",
   "execution_count": 31,
   "id": "1258153b",
   "metadata": {},
   "outputs": [
    {
     "data": {
      "text/plain": [
       "gender                      0\n",
       "NationalITy                 0\n",
       "PlaceofBirth                0\n",
       "StageID                     0\n",
       "GradeID                     0\n",
       "SectionID                   0\n",
       "Topic                       0\n",
       "Semester                    0\n",
       "Relation                    0\n",
       "raisedhands                 0\n",
       "VisITedResources            0\n",
       "AnnouncementsView           0\n",
       "Discussion                  0\n",
       "ParentAnsweringSurvey       0\n",
       "ParentschoolSatisfaction    0\n",
       "StudentAbsenceDays          0\n",
       "Class                       0\n",
       "dtype: int64"
      ]
     },
     "execution_count": 31,
     "metadata": {},
     "output_type": "execute_result"
    }
   ],
   "source": [
    "null"
   ]
  },
  {
   "cell_type": "markdown",
   "id": "82ae077f",
   "metadata": {},
   "source": [
    "### we checked missing value and the result showing us no any missing value"
   ]
  },
  {
   "cell_type": "code",
   "execution_count": 60,
   "id": "aafc9246",
   "metadata": {},
   "outputs": [],
   "source": [
    " duplicate= df.duplicated().sum()"
   ]
  },
  {
   "cell_type": "code",
   "execution_count": 46,
   "id": "e7fbf2d9",
   "metadata": {},
   "outputs": [
    {
     "data": {
      "text/plain": [
       "2"
      ]
     },
     "execution_count": 46,
     "metadata": {},
     "output_type": "execute_result"
    }
   ],
   "source": [
    "duplicate"
   ]
  },
  {
   "cell_type": "markdown",
   "id": "901030fe",
   "metadata": {},
   "source": [
    "### we check duplicated value and we found 2 duplicated value so, we drop duplicate value usnig these steps below"
   ]
  },
  {
   "cell_type": "code",
   "execution_count": 113,
   "id": "331db09b",
   "metadata": {},
   "outputs": [],
   "source": [
    "#Clear duplicated Value\n",
    "df.drop_duplicates(inplace=True)\n",
    "#df.drop_duplicates(inplace=True) # xalka waa kan"
   ]
  },
  {
   "cell_type": "code",
   "execution_count": 116,
   "id": "36026b97",
   "metadata": {},
   "outputs": [
    {
     "data": {
      "text/plain": [
       "0"
      ]
     },
     "execution_count": 116,
     "metadata": {},
     "output_type": "execute_result"
    }
   ],
   "source": [
    "#after clear duplicate value\n",
    "df.duplicated().sum()"
   ]
  },
  {
   "cell_type": "markdown",
   "id": "f59b13b9",
   "metadata": {},
   "source": [
    "# 5 investigate the unique values of categories variables"
   ]
  },
  {
   "cell_type": "code",
   "execution_count": 118,
   "id": "cf1d8abb",
   "metadata": {},
   "outputs": [
    {
     "data": {
      "text/plain": [
       "gender                       2\n",
       "NationalITy                 14\n",
       "PlaceofBirth                14\n",
       "StageID                      3\n",
       "GradeID                     10\n",
       "SectionID                    3\n",
       "Topic                       12\n",
       "Semester                     2\n",
       "Relation                     2\n",
       "ParentAnsweringSurvey        2\n",
       "ParentschoolSatisfaction     2\n",
       "StudentAbsenceDays           2\n",
       "Class                        3\n",
       "dtype: int64"
      ]
     },
     "execution_count": 118,
     "metadata": {},
     "output_type": "execute_result"
    }
   ],
   "source": [
    "unique_values=df.select_dtypes(include=['object']).nunique()\n",
    "unique_values"
   ]
  },
  {
   "cell_type": "markdown",
   "id": "8838d70e",
   "metadata": {},
   "source": [
    "Gender are categories :Male and female \n",
    "Nationalyty are: KW, lebanon, Egypt, SaudiArabia, USA, Jordan, venzuela, Iran, Tunis, Morocco, Syria, Palestine, \n",
    "    Iraq, Lybia\n",
    "PlaceofBirth are 14: KW, lebanon, Egypt, SaudiArabia, USA, Jordan, venzuela, Iran, \n",
    "    Tunis, Morocco, Syria, Palestine, Iraq, Lybia\n",
    "Semester are 2: first and Second\n"
   ]
  },
  {
   "cell_type": "markdown",
   "id": "130961d1",
   "metadata": {},
   "source": [
    "# 6 Building a Linear Regression Mode"
   ]
  },
  {
   "cell_type": "code",
   "execution_count": 98,
   "id": "cf05bb4f",
   "metadata": {},
   "outputs": [],
   "source": [
    "#fig.show()"
   ]
  },
  {
   "cell_type": "code",
   "execution_count": 146,
   "id": "417135e7",
   "metadata": {},
   "outputs": [],
   "source": [
    "features=[\"raisedhands\",\"VisITedResources\"]\n",
    "x=df[features]\n",
    "y=df[\"Discussion\"]"
   ]
  },
  {
   "cell_type": "code",
   "execution_count": 147,
   "id": "2f1c4815",
   "metadata": {},
   "outputs": [],
   "source": [
    "xtrain,xtest,ytrain,ytest=train_test_split(x,y,test_size=0.2)"
   ]
  },
  {
   "cell_type": "code",
   "execution_count": 148,
   "id": "d54889c7",
   "metadata": {},
   "outputs": [
    {
     "data": {
      "text/html": [
       "<style>#sk-container-id-2 {color: black;}#sk-container-id-2 pre{padding: 0;}#sk-container-id-2 div.sk-toggleable {background-color: white;}#sk-container-id-2 label.sk-toggleable__label {cursor: pointer;display: block;width: 100%;margin-bottom: 0;padding: 0.3em;box-sizing: border-box;text-align: center;}#sk-container-id-2 label.sk-toggleable__label-arrow:before {content: \"▸\";float: left;margin-right: 0.25em;color: #696969;}#sk-container-id-2 label.sk-toggleable__label-arrow:hover:before {color: black;}#sk-container-id-2 div.sk-estimator:hover label.sk-toggleable__label-arrow:before {color: black;}#sk-container-id-2 div.sk-toggleable__content {max-height: 0;max-width: 0;overflow: hidden;text-align: left;background-color: #f0f8ff;}#sk-container-id-2 div.sk-toggleable__content pre {margin: 0.2em;color: black;border-radius: 0.25em;background-color: #f0f8ff;}#sk-container-id-2 input.sk-toggleable__control:checked~div.sk-toggleable__content {max-height: 200px;max-width: 100%;overflow: auto;}#sk-container-id-2 input.sk-toggleable__control:checked~label.sk-toggleable__label-arrow:before {content: \"▾\";}#sk-container-id-2 div.sk-estimator input.sk-toggleable__control:checked~label.sk-toggleable__label {background-color: #d4ebff;}#sk-container-id-2 div.sk-label input.sk-toggleable__control:checked~label.sk-toggleable__label {background-color: #d4ebff;}#sk-container-id-2 input.sk-hidden--visually {border: 0;clip: rect(1px 1px 1px 1px);clip: rect(1px, 1px, 1px, 1px);height: 1px;margin: -1px;overflow: hidden;padding: 0;position: absolute;width: 1px;}#sk-container-id-2 div.sk-estimator {font-family: monospace;background-color: #f0f8ff;border: 1px dotted black;border-radius: 0.25em;box-sizing: border-box;margin-bottom: 0.5em;}#sk-container-id-2 div.sk-estimator:hover {background-color: #d4ebff;}#sk-container-id-2 div.sk-parallel-item::after {content: \"\";width: 100%;border-bottom: 1px solid gray;flex-grow: 1;}#sk-container-id-2 div.sk-label:hover label.sk-toggleable__label {background-color: #d4ebff;}#sk-container-id-2 div.sk-serial::before {content: \"\";position: absolute;border-left: 1px solid gray;box-sizing: border-box;top: 0;bottom: 0;left: 50%;z-index: 0;}#sk-container-id-2 div.sk-serial {display: flex;flex-direction: column;align-items: center;background-color: white;padding-right: 0.2em;padding-left: 0.2em;position: relative;}#sk-container-id-2 div.sk-item {position: relative;z-index: 1;}#sk-container-id-2 div.sk-parallel {display: flex;align-items: stretch;justify-content: center;background-color: white;position: relative;}#sk-container-id-2 div.sk-item::before, #sk-container-id-2 div.sk-parallel-item::before {content: \"\";position: absolute;border-left: 1px solid gray;box-sizing: border-box;top: 0;bottom: 0;left: 50%;z-index: -1;}#sk-container-id-2 div.sk-parallel-item {display: flex;flex-direction: column;z-index: 1;position: relative;background-color: white;}#sk-container-id-2 div.sk-parallel-item:first-child::after {align-self: flex-end;width: 50%;}#sk-container-id-2 div.sk-parallel-item:last-child::after {align-self: flex-start;width: 50%;}#sk-container-id-2 div.sk-parallel-item:only-child::after {width: 0;}#sk-container-id-2 div.sk-dashed-wrapped {border: 1px dashed gray;margin: 0 0.4em 0.5em 0.4em;box-sizing: border-box;padding-bottom: 0.4em;background-color: white;}#sk-container-id-2 div.sk-label label {font-family: monospace;font-weight: bold;display: inline-block;line-height: 1.2em;}#sk-container-id-2 div.sk-label-container {text-align: center;}#sk-container-id-2 div.sk-container {/* jupyter's `normalize.less` sets `[hidden] { display: none; }` but bootstrap.min.css set `[hidden] { display: none !important; }` so we also need the `!important` here to be able to override the default hidden behavior on the sphinx rendered scikit-learn.org. See: https://github.com/scikit-learn/scikit-learn/issues/21755 */display: inline-block !important;position: relative;}#sk-container-id-2 div.sk-text-repr-fallback {display: none;}</style><div id=\"sk-container-id-2\" class=\"sk-top-container\"><div class=\"sk-text-repr-fallback\"><pre>LinearRegression()</pre><b>In a Jupyter environment, please rerun this cell to show the HTML representation or trust the notebook. <br />On GitHub, the HTML representation is unable to render, please try loading this page with nbviewer.org.</b></div><div class=\"sk-container\" hidden><div class=\"sk-item\"><div class=\"sk-estimator sk-toggleable\"><input class=\"sk-toggleable__control sk-hidden--visually\" id=\"sk-estimator-id-2\" type=\"checkbox\" checked><label for=\"sk-estimator-id-2\" class=\"sk-toggleable__label sk-toggleable__label-arrow\">LinearRegression</label><div class=\"sk-toggleable__content\"><pre>LinearRegression()</pre></div></div></div></div></div>"
      ],
      "text/plain": [
       "LinearRegression()"
      ]
     },
     "execution_count": 148,
     "metadata": {},
     "output_type": "execute_result"
    }
   ],
   "source": [
    "ml=LinearRegression()\n",
    "ml.fit(xtrain,ytrain)"
   ]
  },
  {
   "cell_type": "code",
   "execution_count": 149,
   "id": "db2caddc",
   "metadata": {},
   "outputs": [
    {
     "name": "stdout",
     "output_type": "stream",
     "text": [
      "Accurancy:  0.12116356755759583\n"
     ]
    }
   ],
   "source": [
    "print(\"Accurancy: \",ml.score(xtest,ytest))"
   ]
  },
  {
   "cell_type": "code",
   "execution_count": 150,
   "id": "0338e7be",
   "metadata": {},
   "outputs": [],
   "source": [
    "Discus=[[20,40]]"
   ]
  },
  {
   "cell_type": "code",
   "execution_count": 152,
   "id": "5bdb3703",
   "metadata": {},
   "outputs": [
    {
     "name": "stdout",
     "output_type": "stream",
     "text": [
      "[34.989666]\n"
     ]
    }
   ],
   "source": [
    "print(ml.predict(Discus))"
   ]
  },
  {
   "cell_type": "markdown",
   "id": "42abab19",
   "metadata": {},
   "source": [
    "# 7 Reporting for summarizing all steps you have already done minimum 150 words but not limited"
   ]
  },
  {
   "cell_type": "markdown",
   "id": "cafda282",
   "metadata": {},
   "source": [
    "Title: Exploratory Data Analysis and Linear Regression Modeling\n",
    "for Student Performance Dataset\n",
    "_________\n",
    "In this notebook, we conducted a comprehensive analysis of the Student Performance dataset, covering various steps from data\n",
    "exploration to building a linear regression model. We began by loading the dataset and inspecting its structure, identifying key\n",
    "features, and understanding the data types.\n",
    "We then performed exploratory data analysis (EDA) to gain insights into the dataset. This involved generating descriptive statistics,\n",
    "exploring unique values in categorical variables, and visualizing data distributions using count plots and histograms. We also checked\n",
    "for missing values and duplicates, employing appropriate handling methods.\n",
    "The subsequent step involved building a linear regression model to predict the 'raisedhands' variable using selected independent\n",
    "variables. We interpreted the model parameters, including the intercept and coefficients, to understand their significance in predicting\n",
    "student engagement. Model evaluation metrics such as Mean Absolute Error, Mean Squared Error, and Root Mean Squared Error\n",
    "were used to assess the model's accuracy.\n",
    "The notebook concluded with a scatter plot visualizing the alignment between actual and predicted values, providing a practical\n",
    "understanding of the model's performance. The entire process aimed to provide a holistic understanding of the dataset and\n",
    "demonstrate the steps involved in exploratory data analysis and linear regression modeling"
   ]
  }
 ],
 "metadata": {
  "kernelspec": {
   "display_name": "Python 3 (ipykernel)",
   "language": "python",
   "name": "python3"
  },
  "language_info": {
   "codemirror_mode": {
    "name": "ipython",
    "version": 3
   },
   "file_extension": ".py",
   "mimetype": "text/x-python",
   "name": "python",
   "nbconvert_exporter": "python",
   "pygments_lexer": "ipython3",
   "version": "3.9.7"
  }
 },
 "nbformat": 4,
 "nbformat_minor": 5
}
